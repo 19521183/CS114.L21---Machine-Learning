{
  "nbformat": 4,
  "nbformat_minor": 0,
  "metadata": {
    "colab": {
      "name": "Copy of Sarcasm Detection.ipynb",
      "provenance": [],
      "collapsed_sections": [
        "LN-7DTNXuZUh"
      ],
      "include_colab_link": true
    },
    "kernelspec": {
      "display_name": "Python 3",
      "name": "python3"
    },
    "language_info": {
      "name": "python"
    }
  },
  "cells": [
    {
      "cell_type": "markdown",
      "metadata": {
        "id": "view-in-github",
        "colab_type": "text"
      },
      "source": [
        "<a href=\"https://colab.research.google.com/github/UIT-19521183/CS114.L21/blob/main/CS114.L21/Colab%20assignments/4)%20Sarcasm%20detection/Sarcasm%20Detection.ipynb\" target=\"_parent\"><img src=\"https://colab.research.google.com/assets/colab-badge.svg\" alt=\"Open In Colab\"/></a>"
      ]
    },
    {
      "cell_type": "markdown",
      "metadata": {
        "id": "b-icaTANWbzc"
      },
      "source": [
        "# Data importing"
      ]
    },
    {
      "cell_type": "code",
      "metadata": {
        "id": "BPRRQNWexMS0"
      },
      "source": [
        "import numpy as np\n",
        "import pandas as pd\n",
        "import seaborn as sns\n",
        "import matplotlib.pyplot as plt\n",
        "import nltk\n",
        "from sklearn.preprocessing import LabelBinarizer\n",
        "from nltk.corpus import stopwords\n",
        "from nltk.stem.porter import PorterStemmer\n",
        "from wordcloud import WordCloud,STOPWORDS\n",
        "from nltk.stem import WordNetLemmatizer\n",
        "from nltk.tokenize import word_tokenize,sent_tokenize\n",
        "from bs4 import BeautifulSoup\n",
        "import re,string,unicodedata\n",
        "from keras.preprocessing import text, sequence\n",
        "from nltk.tokenize.toktok import ToktokTokenizer\n",
        "from sklearn.metrics import classification_report,confusion_matrix,accuracy_score\n",
        "from sklearn.model_selection import train_test_split\n",
        "from string import punctuation\n",
        "from nltk import pos_tag\n",
        "from nltk.corpus import wordnet\n",
        "import keras\n",
        "import keras\n",
        "from keras.models import Sequential\n",
        "from keras.layers import Dense,Embedding,LSTM,Dropout,Bidirectional,GRU\n",
        "import tensorflow as tf"
      ],
      "execution_count": 78,
      "outputs": []
    },
    {
      "cell_type": "code",
      "metadata": {
        "id": "OVQX6hfPQcny"
      },
      "source": [
        "training_data=pd.read_json(\"https://raw.githubusercontent.com/UIT-19521183/CS114.L21/main/Colab%20assignments/4)%20Sarcasm%20detection/Data/Training%20data%20for%20Sarcasm%20Detection.json\")"
      ],
      "execution_count": null,
      "outputs": []
    },
    {
      "cell_type": "code",
      "metadata": {
        "id": "q2QQXlyw84rz"
      },
      "source": [
        "length = []\n",
        "for x in training_data['headline']:\n",
        "  length.append(len(x))\n",
        "training_data['length'] = length"
      ],
      "execution_count": 3,
      "outputs": []
    },
    {
      "cell_type": "code",
      "metadata": {
        "colab": {
          "base_uri": "https://localhost:8080/",
          "height": 300
        },
        "id": "A0Aj2zW6uoBE",
        "outputId": "13dd1f58-7713-479a-8af4-1f8af83a92b9"
      },
      "source": [
        "training_data.describe()"
      ],
      "execution_count": 4,
      "outputs": [
        {
          "output_type": "execute_result",
          "data": {
            "text/html": [
              "<div>\n",
              "<style scoped>\n",
              "    .dataframe tbody tr th:only-of-type {\n",
              "        vertical-align: middle;\n",
              "    }\n",
              "\n",
              "    .dataframe tbody tr th {\n",
              "        vertical-align: top;\n",
              "    }\n",
              "\n",
              "    .dataframe thead th {\n",
              "        text-align: right;\n",
              "    }\n",
              "</style>\n",
              "<table border=\"1\" class=\"dataframe\">\n",
              "  <thead>\n",
              "    <tr style=\"text-align: right;\">\n",
              "      <th></th>\n",
              "      <th>is_sarcastic</th>\n",
              "      <th>length</th>\n",
              "    </tr>\n",
              "  </thead>\n",
              "  <tbody>\n",
              "    <tr>\n",
              "      <th>count</th>\n",
              "      <td>119688.000000</td>\n",
              "      <td>119688.000000</td>\n",
              "    </tr>\n",
              "    <tr>\n",
              "      <th>mean</th>\n",
              "      <td>0.170685</td>\n",
              "      <td>68.115208</td>\n",
              "    </tr>\n",
              "    <tr>\n",
              "      <th>std</th>\n",
              "      <td>0.376235</td>\n",
              "      <td>51.366984</td>\n",
              "    </tr>\n",
              "    <tr>\n",
              "      <th>min</th>\n",
              "      <td>0.000000</td>\n",
              "      <td>1.000000</td>\n",
              "    </tr>\n",
              "    <tr>\n",
              "      <th>25%</th>\n",
              "      <td>0.000000</td>\n",
              "      <td>54.000000</td>\n",
              "    </tr>\n",
              "    <tr>\n",
              "      <th>50%</th>\n",
              "      <td>0.000000</td>\n",
              "      <td>61.000000</td>\n",
              "    </tr>\n",
              "    <tr>\n",
              "      <th>75%</th>\n",
              "      <td>0.000000</td>\n",
              "      <td>71.000000</td>\n",
              "    </tr>\n",
              "    <tr>\n",
              "      <th>max</th>\n",
              "      <td>1.000000</td>\n",
              "      <td>10536.000000</td>\n",
              "    </tr>\n",
              "  </tbody>\n",
              "</table>\n",
              "</div>"
            ],
            "text/plain": [
              "        is_sarcastic         length\n",
              "count  119688.000000  119688.000000\n",
              "mean        0.170685      68.115208\n",
              "std         0.376235      51.366984\n",
              "min         0.000000       1.000000\n",
              "25%         0.000000      54.000000\n",
              "50%         0.000000      61.000000\n",
              "75%         0.000000      71.000000\n",
              "max         1.000000   10536.000000"
            ]
          },
          "metadata": {},
          "execution_count": 4
        }
      ]
    },
    {
      "cell_type": "code",
      "metadata": {
        "colab": {
          "base_uri": "https://localhost:8080/",
          "height": 423
        },
        "id": "kpHwM9bBusd1",
        "outputId": "249b22cd-9937-4aa6-9ac3-10118d27591b"
      },
      "source": [
        "training_data.drop(index=training_data.loc[training_data['length'] > 120, :].index)"
      ],
      "execution_count": 5,
      "outputs": [
        {
          "output_type": "execute_result",
          "data": {
            "text/html": [
              "<div>\n",
              "<style scoped>\n",
              "    .dataframe tbody tr th:only-of-type {\n",
              "        vertical-align: middle;\n",
              "    }\n",
              "\n",
              "    .dataframe tbody tr th {\n",
              "        vertical-align: top;\n",
              "    }\n",
              "\n",
              "    .dataframe thead th {\n",
              "        text-align: right;\n",
              "    }\n",
              "</style>\n",
              "<table border=\"1\" class=\"dataframe\">\n",
              "  <thead>\n",
              "    <tr style=\"text-align: right;\">\n",
              "      <th></th>\n",
              "      <th>headline</th>\n",
              "      <th>is_sarcastic</th>\n",
              "      <th>length</th>\n",
              "    </tr>\n",
              "  </thead>\n",
              "  <tbody>\n",
              "    <tr>\n",
              "      <th>0</th>\n",
              "      <td>More than 90% of COVID cases in UK are Delta v...</td>\n",
              "      <td>0</td>\n",
              "      <td>67</td>\n",
              "    </tr>\n",
              "    <tr>\n",
              "      <th>1</th>\n",
              "      <td>Russia bus crash: At least six people killed a...</td>\n",
              "      <td>0</td>\n",
              "      <td>66</td>\n",
              "    </tr>\n",
              "    <tr>\n",
              "      <th>2</th>\n",
              "      <td>EURO 2020: This is your quick guide to Slovakia</td>\n",
              "      <td>0</td>\n",
              "      <td>47</td>\n",
              "    </tr>\n",
              "    <tr>\n",
              "      <th>3</th>\n",
              "      <td>Slovakia are competing in just their second Eu...</td>\n",
              "      <td>0</td>\n",
              "      <td>118</td>\n",
              "    </tr>\n",
              "    <tr>\n",
              "      <th>4</th>\n",
              "      <td>EURO 2020: This is your quick guide to Poland</td>\n",
              "      <td>0</td>\n",
              "      <td>45</td>\n",
              "    </tr>\n",
              "    <tr>\n",
              "      <th>...</th>\n",
              "      <td>...</td>\n",
              "      <td>...</td>\n",
              "      <td>...</td>\n",
              "    </tr>\n",
              "    <tr>\n",
              "      <th>119683</th>\n",
              "      <td>SPACEWALK TO BE CANCELLED AS ‘NOTHING NEEDS FI...</td>\n",
              "      <td>1</td>\n",
              "      <td>51</td>\n",
              "    </tr>\n",
              "    <tr>\n",
              "      <th>119684</th>\n",
              "      <td>COOGAN AND REILLY ‘ASTOUNDING’ AS REES-MOGG AN...</td>\n",
              "      <td>1</td>\n",
              "      <td>55</td>\n",
              "    </tr>\n",
              "    <tr>\n",
              "      <th>119685</th>\n",
              "      <td>BREXIT TIME CAPSULE DISCOVERED BURIED UNDERNEA...</td>\n",
              "      <td>1</td>\n",
              "      <td>63</td>\n",
              "    </tr>\n",
              "    <tr>\n",
              "      <th>119686</th>\n",
              "      <td>BOWIE DIES IN CAMERON PROTEST</td>\n",
              "      <td>1</td>\n",
              "      <td>29</td>\n",
              "    </tr>\n",
              "    <tr>\n",
              "      <th>119687</th>\n",
              "      <td>MPS AGREE ALL-PARTY COLLABORATION TO DESTROY B...</td>\n",
              "      <td>1</td>\n",
              "      <td>61</td>\n",
              "    </tr>\n",
              "  </tbody>\n",
              "</table>\n",
              "<p>112915 rows × 3 columns</p>\n",
              "</div>"
            ],
            "text/plain": [
              "                                                 headline  is_sarcastic  length\n",
              "0       More than 90% of COVID cases in UK are Delta v...             0      67\n",
              "1       Russia bus crash: At least six people killed a...             0      66\n",
              "2         EURO 2020: This is your quick guide to Slovakia             0      47\n",
              "3       Slovakia are competing in just their second Eu...             0     118\n",
              "4           EURO 2020: This is your quick guide to Poland             0      45\n",
              "...                                                   ...           ...     ...\n",
              "119683  SPACEWALK TO BE CANCELLED AS ‘NOTHING NEEDS FI...             1      51\n",
              "119684  COOGAN AND REILLY ‘ASTOUNDING’ AS REES-MOGG AN...             1      55\n",
              "119685  BREXIT TIME CAPSULE DISCOVERED BURIED UNDERNEA...             1      63\n",
              "119686                      BOWIE DIES IN CAMERON PROTEST             1      29\n",
              "119687  MPS AGREE ALL-PARTY COLLABORATION TO DESTROY B...             1      61\n",
              "\n",
              "[112915 rows x 3 columns]"
            ]
          },
          "metadata": {},
          "execution_count": 5
        }
      ]
    },
    {
      "cell_type": "code",
      "metadata": {
        "id": "v286QEGHUp-0"
      },
      "source": [
        "testing_data=pd.read_json(\"https://raw.githubusercontent.com/UIT-19521183/CS114.L21/main/Colab%20assignments/4)%20Sarcasm%20detection/Data/Testing%20data%20for%20Sarcasm%20Detection.json\")"
      ],
      "execution_count": null,
      "outputs": []
    },
    {
      "cell_type": "code",
      "metadata": {
        "id": "0lRON3JbwHeS"
      },
      "source": [
        "testing_data.dropna(inplace=True)"
      ],
      "execution_count": 7,
      "outputs": []
    },
    {
      "cell_type": "code",
      "metadata": {
        "id": "x169pZRivFo2"
      },
      "source": [
        "length = []\n",
        "for x in testing_data['headline']:\n",
        "  length.append(len(x))\n",
        "testing_data['length'] = length"
      ],
      "execution_count": 8,
      "outputs": []
    },
    {
      "cell_type": "code",
      "metadata": {
        "colab": {
          "base_uri": "https://localhost:8080/",
          "height": 300
        },
        "id": "GkPKZqR1SjSZ",
        "outputId": "427737ad-c434-4530-acb7-64feafb6d687"
      },
      "source": [
        "testing_data.describe()"
      ],
      "execution_count": 125,
      "outputs": [
        {
          "output_type": "execute_result",
          "data": {
            "text/html": [
              "<div>\n",
              "<style scoped>\n",
              "    .dataframe tbody tr th:only-of-type {\n",
              "        vertical-align: middle;\n",
              "    }\n",
              "\n",
              "    .dataframe tbody tr th {\n",
              "        vertical-align: top;\n",
              "    }\n",
              "\n",
              "    .dataframe thead th {\n",
              "        text-align: right;\n",
              "    }\n",
              "</style>\n",
              "<table border=\"1\" class=\"dataframe\">\n",
              "  <thead>\n",
              "    <tr style=\"text-align: right;\">\n",
              "      <th></th>\n",
              "      <th>is_sarcastic</th>\n",
              "      <th>length</th>\n",
              "    </tr>\n",
              "  </thead>\n",
              "  <tbody>\n",
              "    <tr>\n",
              "      <th>count</th>\n",
              "      <td>57463.000000</td>\n",
              "      <td>57463.000000</td>\n",
              "    </tr>\n",
              "    <tr>\n",
              "      <th>mean</th>\n",
              "      <td>0.341333</td>\n",
              "      <td>58.594365</td>\n",
              "    </tr>\n",
              "    <tr>\n",
              "      <th>std</th>\n",
              "      <td>0.474161</td>\n",
              "      <td>20.649676</td>\n",
              "    </tr>\n",
              "    <tr>\n",
              "      <th>min</th>\n",
              "      <td>0.000000</td>\n",
              "      <td>5.000000</td>\n",
              "    </tr>\n",
              "    <tr>\n",
              "      <th>25%</th>\n",
              "      <td>0.000000</td>\n",
              "      <td>46.000000</td>\n",
              "    </tr>\n",
              "    <tr>\n",
              "      <th>50%</th>\n",
              "      <td>0.000000</td>\n",
              "      <td>57.000000</td>\n",
              "    </tr>\n",
              "    <tr>\n",
              "      <th>75%</th>\n",
              "      <td>1.000000</td>\n",
              "      <td>69.000000</td>\n",
              "    </tr>\n",
              "    <tr>\n",
              "      <th>max</th>\n",
              "      <td>1.000000</td>\n",
              "      <td>188.000000</td>\n",
              "    </tr>\n",
              "  </tbody>\n",
              "</table>\n",
              "</div>"
            ],
            "text/plain": [
              "       is_sarcastic        length\n",
              "count  57463.000000  57463.000000\n",
              "mean       0.341333     58.594365\n",
              "std        0.474161     20.649676\n",
              "min        0.000000      5.000000\n",
              "25%        0.000000     46.000000\n",
              "50%        0.000000     57.000000\n",
              "75%        1.000000     69.000000\n",
              "max        1.000000    188.000000"
            ]
          },
          "metadata": {},
          "execution_count": 125
        }
      ]
    },
    {
      "cell_type": "code",
      "metadata": {
        "colab": {
          "base_uri": "https://localhost:8080/",
          "height": 423
        },
        "id": "hzwTZg8pwap1",
        "outputId": "08e6c47f-e3a6-45f4-d03f-3d4b09432745"
      },
      "source": [
        "testing_data.drop(index=testing_data.loc[testing_data['length'] > 120, :].index)"
      ],
      "execution_count": 9,
      "outputs": [
        {
          "output_type": "execute_result",
          "data": {
            "text/html": [
              "<div>\n",
              "<style scoped>\n",
              "    .dataframe tbody tr th:only-of-type {\n",
              "        vertical-align: middle;\n",
              "    }\n",
              "\n",
              "    .dataframe tbody tr th {\n",
              "        vertical-align: top;\n",
              "    }\n",
              "\n",
              "    .dataframe thead th {\n",
              "        text-align: right;\n",
              "    }\n",
              "</style>\n",
              "<table border=\"1\" class=\"dataframe\">\n",
              "  <thead>\n",
              "    <tr style=\"text-align: right;\">\n",
              "      <th></th>\n",
              "      <th>headline</th>\n",
              "      <th>is_sarcastic</th>\n",
              "      <th>length</th>\n",
              "    </tr>\n",
              "  </thead>\n",
              "  <tbody>\n",
              "    <tr>\n",
              "      <th>0</th>\n",
              "      <td>007 to be played by intersectionality checklist</td>\n",
              "      <td>1</td>\n",
              "      <td>47</td>\n",
              "    </tr>\n",
              "    <tr>\n",
              "      <th>1</th>\n",
              "      <td>1 easy tip for abiding by your governor's holi...</td>\n",
              "      <td>1</td>\n",
              "      <td>62</td>\n",
              "    </tr>\n",
              "    <tr>\n",
              "      <th>2</th>\n",
              "      <td>10 arguments for christianity that are guarant...</td>\n",
              "      <td>1</td>\n",
              "      <td>59</td>\n",
              "    </tr>\n",
              "    <tr>\n",
              "      <th>3</th>\n",
              "      <td>10 awesome baby names straight out of the bible</td>\n",
              "      <td>1</td>\n",
              "      <td>47</td>\n",
              "    </tr>\n",
              "    <tr>\n",
              "      <th>4</th>\n",
              "      <td>10 blatantly obvious christ figures in the 'st...</td>\n",
              "      <td>1</td>\n",
              "      <td>63</td>\n",
              "    </tr>\n",
              "    <tr>\n",
              "      <th>...</th>\n",
              "      <td>...</td>\n",
              "      <td>...</td>\n",
              "      <td>...</td>\n",
              "    </tr>\n",
              "    <tr>\n",
              "      <th>57462</th>\n",
              "      <td>arnold donald: “it stopped working because the...</td>\n",
              "      <td>0</td>\n",
              "      <td>61</td>\n",
              "    </tr>\n",
              "    <tr>\n",
              "      <th>57463</th>\n",
              "      <td>postcard from . . . new york</td>\n",
              "      <td>0</td>\n",
              "      <td>28</td>\n",
              "    </tr>\n",
              "    <tr>\n",
              "      <th>57464</th>\n",
              "      <td>shortcuts: updates from las vegas, rome and lo...</td>\n",
              "      <td>0</td>\n",
              "      <td>50</td>\n",
              "    </tr>\n",
              "    <tr>\n",
              "      <th>57465</th>\n",
              "      <td>le coucou, new york: chic and cheerful</td>\n",
              "      <td>0</td>\n",
              "      <td>38</td>\n",
              "    </tr>\n",
              "    <tr>\n",
              "      <th>57466</th>\n",
              "      <td>cayes to paradise: francis ford coppola’s new ...</td>\n",
              "      <td>0</td>\n",
              "      <td>60</td>\n",
              "    </tr>\n",
              "  </tbody>\n",
              "</table>\n",
              "<p>56938 rows × 3 columns</p>\n",
              "</div>"
            ],
            "text/plain": [
              "                                                headline  is_sarcastic  length\n",
              "0        007 to be played by intersectionality checklist             1      47\n",
              "1      1 easy tip for abiding by your governor's holi...             1      62\n",
              "2      10 arguments for christianity that are guarant...             1      59\n",
              "3        10 awesome baby names straight out of the bible             1      47\n",
              "4      10 blatantly obvious christ figures in the 'st...             1      63\n",
              "...                                                  ...           ...     ...\n",
              "57462  arnold donald: “it stopped working because the...             0      61\n",
              "57463                       postcard from . . . new york             0      28\n",
              "57464  shortcuts: updates from las vegas, rome and lo...             0      50\n",
              "57465             le coucou, new york: chic and cheerful             0      38\n",
              "57466  cayes to paradise: francis ford coppola’s new ...             0      60\n",
              "\n",
              "[56938 rows x 3 columns]"
            ]
          },
          "metadata": {},
          "execution_count": 9
        }
      ]
    },
    {
      "cell_type": "code",
      "metadata": {
        "id": "E4TpJcAoCv78",
        "colab": {
          "base_uri": "https://localhost:8080/",
          "height": 373
        },
        "outputId": "b937c531-ac9a-46c0-dc37-90e8dd6d8a72"
      },
      "source": [
        "sns.set_theme(style=\"darkgrid\")\n",
        "fig, axs = plt.subplots(1,2, figsize = (12,5))\n",
        "axs[0].set_title(\"Training data\")\n",
        "axs[1].set_title(\"Testing data\")\n",
        "sns.countplot(x='is_sarcastic', data=training_data, ax=axs[0])\n",
        "sns.countplot(x='is_sarcastic', data=testing_data, ax=axs[1])"
      ],
      "execution_count": 10,
      "outputs": [
        {
          "output_type": "execute_result",
          "data": {
            "text/plain": [
              "<matplotlib.axes._subplots.AxesSubplot at 0x7fe9a4ff0c90>"
            ]
          },
          "metadata": {},
          "execution_count": 10
        },
        {
          "output_type": "display_data",
          "data": {
            "image/png": "[encoded data removed]",
            "text/plain": [
              "<Figure size 864x360 with 2 Axes>"
            ]
          },
          "metadata": {}
        }
      ]
    },
    {
      "cell_type": "markdown",
      "metadata": {
        "id": "c542KiPj0dXx"
      },
      "source": [
        "Nhìn chung số lượng headlines chính thống và châm biếm trên cả \n",
        "trainining và testing data có sự chênh lệch lớn, đặc biệt ở training data. \n",
        "\n",
        "\n",
        "---\n",
        "\n",
        "\n",
        "Với training data, số lượng headline châm biếm chỉ ở mức 1/5 số lượng \n",
        "headline chính thống. Nhưng với testing data, số headline châm biến nhiều hơn 1/2 số headline chính thống (dù cả training và testing data đều có 20000 headline châm biếm).\n",
        "\n",
        "\n",
        "---\n",
        "\n",
        "\n",
        "=> Các model sẽ được train headline chính thống nhiều hơn nên sẽ cho kết quả phân loại chính xác hơn trên class này. Ngoài ra, tỉ lệ châm biếm/ chính thống tăng ở testing data làm cho model có xu hướng phân loại sai class châm biếm nhiều hơn nên training và testing data như trên gây khá nhiều bất lợi cho kết quả phân loại của model."
      ]
    },
    {
      "cell_type": "markdown",
      "metadata": {
        "id": "hH9McnrovLGN"
      },
      "source": [
        "# Data preprocessing"
      ]
    },
    {
      "cell_type": "code",
      "metadata": {
        "colab": {
          "base_uri": "https://localhost:8080/"
        },
        "id": "8YUYTTxmfDns",
        "outputId": "284c6df0-70ee-4624-d01c-b5de8f47a67f"
      },
      "source": [
        "nltk.download('punkt')\n",
        "nltk.download('averaged_perceptron_tagger')\n",
        "nltk.download('wordnet')\n",
        "nltk.download('stopwords')"
      ],
      "execution_count": 11,
      "outputs": [
        {
          "output_type": "stream",
          "text": [
            "[nltk_data] Downloading package punkt to /root/nltk_data...\n",
            "[nltk_data]   Unzipping tokenizers/punkt.zip.\n",
            "[nltk_data] Downloading package averaged_perceptron_tagger to\n",
            "[nltk_data]     /root/nltk_data...\n",
            "[nltk_data]   Unzipping taggers/averaged_perceptron_tagger.zip.\n",
            "[nltk_data] Downloading package wordnet to /root/nltk_data...\n",
            "[nltk_data]   Unzipping corpora/wordnet.zip.\n",
            "[nltk_data] Downloading package stopwords to /root/nltk_data...\n",
            "[nltk_data]   Unzipping corpora/stopwords.zip.\n"
          ],
          "name": "stdout"
        },
        {
          "output_type": "execute_result",
          "data": {
            "text/plain": [
              "True"
            ]
          },
          "metadata": {},
          "execution_count": 11
        }
      ]
    },
    {
      "cell_type": "code",
      "metadata": {
        "id": "4TCOxGmIQtmX"
      },
      "source": [
        "testing_data=testing_data.dropna()"
      ],
      "execution_count": 12,
      "outputs": []
    },
    {
      "cell_type": "code",
      "metadata": {
        "id": "FVXnQXcgzLVP"
      },
      "source": [
        "X_train=training_data['headline']\n",
        "X_test=testing_data['headline']\n",
        "y_train=training_data['is_sarcastic']\n",
        "y_test=testing_data['is_sarcastic']"
      ],
      "execution_count": 13,
      "outputs": []
    },
    {
      "cell_type": "code",
      "metadata": {
        "id": "hhm81U_6gFoo"
      },
      "source": [
        "def lower_headline(headline): # Đưa toàn bộ headline về chữ thường\n",
        "  return headline.lower()\n",
        "                            \n",
        "def remove_punctuation(headline): # Loại bỏ các dấu câu không cần thiết trong headline\n",
        "  punctuation = [ char for char in string.punctuation ] + [u'\\u201c',u'\\u201d',u'\\u2018',u'\\u2019']\n",
        "  no_punctuation = [char for char in headline if char not in punctuation]\n",
        "  return \"\".join(no_punctuation)\n",
        "\n",
        "# stop words là các từ thường được sử dụng nhiều trong 1 ngôn ngữ, thường mang ý nghĩa về ngữ pháp hơn là nội dung\n",
        "# VD các stop words phổ biến trong tiếng Anh là: a, the, is, are,...\n",
        "stop = stopwords.words('english') \n",
        "def remove_stopwords(headline): # Loại bỏ các stop words\n",
        "  tokens=word_tokenize(headline)\n",
        "  no_stopwords=[word for word in tokens if word not in stop]\n",
        "  return \" \".join(no_stopwords)"
      ],
      "execution_count": 14,
      "outputs": []
    },
    {
      "cell_type": "code",
      "metadata": {
        "id": "uWHnPOWlw94H"
      },
      "source": [
        "# chuyển tag từ vựng trong nltk thành tag tương ứng trong wordnet \n",
        "# (chỉ gắn tag cho một số loại từ vụng thông dụng: verb, noun, adj, adv)\n",
        "def nltk_tag_to_wordnet_tag(nltk_tag):\n",
        "    if nltk_tag.startswith('J'):\n",
        "        return wordnet.ADJ\n",
        "    elif nltk_tag.startswith('V'):\n",
        "        return wordnet.VERB\n",
        "    elif nltk_tag.startswith('N'):\n",
        "        return wordnet.NOUN\n",
        "    elif nltk_tag.startswith('R'):\n",
        "        return wordnet.ADV\n",
        "    else:          \n",
        "        return None\n",
        "\n",
        "# Lemmatization là kĩ thuật nhóm các từ vựng có dạng từ khác nhau lại và đưa chúng về một từ gốc duy nhất\n",
        "# VD: am, is, are => be\n",
        "#     car, cars, car's, cars' => car\n",
        "def lemmatize_sentence(sentence):\n",
        "    lemmatizer=WordNetLemmatizer()\n",
        "    # chuyển câu về các tokens và tìm tag cho mỗi token trong câu\n",
        "    nltk_tagged = nltk.pos_tag(nltk.word_tokenize(sentence))  \n",
        "    wordnet_tagged = map(lambda x: (x[0], nltk_tag_to_wordnet_tag(x[1])), nltk_tagged)\n",
        "    lemmatized_sentence = []\n",
        "    for word, tag in wordnet_tagged:\n",
        "        if tag is None:\n",
        "            # nếu token không có tag thích hợp thì cứ thêm nó vào câu, khỏi cần lemmatize\n",
        "            lemmatized_sentence.append(word)\n",
        "        else:        \n",
        "            # nếu có thì dùng tag đó để lemmatize token để đưa từ trong câu về từ gốc của nó\n",
        "            lemmatized_sentence.append(lemmatizer.lemmatize(word, tag))\n",
        "    return \" \".join(lemmatized_sentence)\n",
        "# https://gaurav5430.medium.com/using-nltk-for-lemmatizing-sentences-c1bfff963258"
      ],
      "execution_count": 15,
      "outputs": []
    },
    {
      "cell_type": "code",
      "metadata": {
        "colab": {
          "base_uri": "https://localhost:8080/"
        },
        "id": "ac6E12kZsmuS",
        "outputId": "5115be09-85af-4b10-8cf7-58db24bc58cd"
      },
      "source": [
        "X_train = X_train.apply(lower_headline)\n",
        "X_test = X_test.apply(lower_headline)\n",
        "X_train"
      ],
      "execution_count": 16,
      "outputs": [
        {
          "output_type": "execute_result",
          "data": {
            "text/plain": [
              "0         more than 90% of covid cases in uk are delta v...\n",
              "1         russia bus crash: at least six people killed a...\n",
              "2           euro 2020: this is your quick guide to slovakia\n",
              "3         slovakia are competing in just their second eu...\n",
              "4             euro 2020: this is your quick guide to poland\n",
              "                                ...                        \n",
              "119683    spacewalk to be cancelled as ‘nothing needs fi...\n",
              "119684    coogan and reilly ‘astounding’ as rees-mogg an...\n",
              "119685    brexit time capsule discovered buried undernea...\n",
              "119686                        bowie dies in cameron protest\n",
              "119687    mps agree all-party collaboration to destroy b...\n",
              "Name: headline, Length: 119688, dtype: object"
            ]
          },
          "metadata": {},
          "execution_count": 16
        }
      ]
    },
    {
      "cell_type": "code",
      "metadata": {
        "colab": {
          "base_uri": "https://localhost:8080/"
        },
        "id": "H8QhH_x9e1jm",
        "outputId": "f409bf77-e196-4324-d9c1-cba50801cdba"
      },
      "source": [
        "X_train = X_train.apply(remove_punctuation)\n",
        "X_test = X_test.apply(remove_punctuation)\n",
        "X_train"
      ],
      "execution_count": 17,
      "outputs": [
        {
          "output_type": "execute_result",
          "data": {
            "text/plain": [
              "0         more than 90 of covid cases in uk are delta va...\n",
              "1         russia bus crash at least six people killed at...\n",
              "2            euro 2020 this is your quick guide to slovakia\n",
              "3         slovakia are competing in just their second eu...\n",
              "4              euro 2020 this is your quick guide to poland\n",
              "                                ...                        \n",
              "119683    spacewalk to be cancelled as nothing needs fixing\n",
              "119684    coogan and reilly astounding as reesmogg and j...\n",
              "119685    brexit time capsule discovered buried undernea...\n",
              "119686                        bowie dies in cameron protest\n",
              "119687    mps agree allparty collaboration to destroy br...\n",
              "Name: headline, Length: 119688, dtype: object"
            ]
          },
          "metadata": {},
          "execution_count": 17
        }
      ]
    },
    {
      "cell_type": "code",
      "metadata": {
        "id": "lcwvvBn5lNAn",
        "colab": {
          "base_uri": "https://localhost:8080/"
        },
        "outputId": "e2e2447b-e07a-4735-e64f-0bbb75359966"
      },
      "source": [
        "X_train = X_train.apply(remove_stopwords)\n",
        "X_test = X_test.apply(remove_stopwords)\n",
        "X_train"
      ],
      "execution_count": 18,
      "outputs": [
        {
          "output_type": "execute_result",
          "data": {
            "text/plain": [
              "0             90 covid cases uk delta variant says minister\n",
              "1         russia bus crash least six people killed bus s...\n",
              "2                            euro 2020 quick guide slovakia\n",
              "3         slovakia competing second european championshi...\n",
              "4                              euro 2020 quick guide poland\n",
              "                                ...                        \n",
              "119683             spacewalk cancelled nothing needs fixing\n",
              "119684            coogan reilly astounding reesmogg johnson\n",
              "119685    brexit time capsule discovered buried undernea...\n",
              "119686                           bowie dies cameron protest\n",
              "119687    mps agree allparty collaboration destroy briti...\n",
              "Name: headline, Length: 119688, dtype: object"
            ]
          },
          "metadata": {},
          "execution_count": 18
        }
      ]
    },
    {
      "cell_type": "code",
      "metadata": {
        "colab": {
          "base_uri": "https://localhost:8080/"
        },
        "id": "K1PSIgTjyVHE",
        "outputId": "14caca30-1be8-4a14-fba1-3f24fe6defac"
      },
      "source": [
        "X_train = X_train.apply(lemmatize_sentence)\n",
        "X_test = X_test.apply(lemmatize_sentence)\n",
        "X_train"
      ],
      "execution_count": 19,
      "outputs": [
        {
          "output_type": "execute_result",
          "data": {
            "text/plain": [
              "0               90 covid case uk delta variant say minister\n",
              "1         russia bus crash least six people kill bus sto...\n",
              "2                            euro 2020 quick guide slovakia\n",
              "3         slovakia compete second european championship ...\n",
              "4                              euro 2020 quick guide poland\n",
              "                                ...                        \n",
              "119683                    spacewalk cancel nothing need fix\n",
              "119684               coogan reilly astound reesmogg johnson\n",
              "119685    brexit time capsule discover buried underneath...\n",
              "119686                            bowie die cameron protest\n",
              "119687    mp agree allparty collaboration destroy britis...\n",
              "Name: headline, Length: 119688, dtype: object"
            ]
          },
          "metadata": {},
          "execution_count": 19
        }
      ]
    },
    {
      "cell_type": "markdown",
      "metadata": {
        "id": "LN-7DTNXuZUh"
      },
      "source": [
        "# Count Vectorizer"
      ]
    },
    {
      "cell_type": "code",
      "metadata": {
        "id": "NG6u1WNawXHY"
      },
      "source": [
        "from sklearn.feature_extraction.text import CountVectorizer\n",
        "from sklearn.linear_model import SGDClassifier\n",
        "from sklearn.metrics import plot_confusion_matrix"
      ],
      "execution_count": 21,
      "outputs": []
    },
    {
      "cell_type": "code",
      "metadata": {
        "colab": {
          "base_uri": "https://localhost:8080/"
        },
        "id": "6o9MHptVuYoW",
        "outputId": "f3c724b7-b2fe-4d7b-8fce-3c009b08bd49"
      },
      "source": [
        "count_vector_train=CountVectorizer()\n",
        "X_train_cv=count_vector_train.fit_transform(X_train)\n",
        "count_vector_test=CountVectorizer(vocabulary=count_vector_train.get_feature_names())\n",
        "X_test_cv=count_vector_test.fit_transform(X_test)\n",
        "print(X_train_cv.shape,X_test_cv.shape)"
      ],
      "execution_count": 39,
      "outputs": [
        {
          "output_type": "stream",
          "text": [
            "(119688, 48319) (57463, 48319)\n"
          ],
          "name": "stdout"
        }
      ]
    },
    {
      "cell_type": "code",
      "metadata": {
        "id": "VWMNiqV9wNNJ"
      },
      "source": [
        "clf=SGDClassifier()\n",
        "clf.fit(X_train_cv,y_train)\n",
        "y_pred=clf.predict(X_test_cv)"
      ],
      "execution_count": 40,
      "outputs": []
    },
    {
      "cell_type": "code",
      "metadata": {
        "colab": {
          "base_uri": "https://localhost:8080/"
        },
        "id": "YPUzMQWlw3Dj",
        "outputId": "c2a89407-6e98-43e8-8b85-6cce6ab37175"
      },
      "source": [
        "print(accuracy_score(y_test, y_pred))"
      ],
      "execution_count": 41,
      "outputs": [
        {
          "output_type": "stream",
          "text": [
            "0.7538241999199485\n"
          ],
          "name": "stdout"
        }
      ]
    },
    {
      "cell_type": "code",
      "metadata": {
        "colab": {
          "base_uri": "https://localhost:8080/"
        },
        "id": "ZiuQSl7Wxaet",
        "outputId": "c3ce1af3-89bd-4e2d-ec8b-3e7c1b8f25fd"
      },
      "source": [
        "print(classification_report(y_test, y_pred))"
      ],
      "execution_count": 42,
      "outputs": [
        {
          "output_type": "stream",
          "text": [
            "              precision    recall  f1-score   support\n",
            "\n",
            "           0       0.75      0.94      0.83     37849\n",
            "           1       0.76      0.40      0.53     19614\n",
            "\n",
            "    accuracy                           0.75     57463\n",
            "   macro avg       0.76      0.67      0.68     57463\n",
            "weighted avg       0.76      0.75      0.73     57463\n",
            "\n"
          ],
          "name": "stdout"
        }
      ]
    },
    {
      "cell_type": "markdown",
      "metadata": {
        "id": "JepiSaYnL42y"
      },
      "source": [
        "Count vectorizer cho f1-score = 0.75 không quá tốt, precision tương đương nhau trên 2 class, tuy nhiên recall của class chính thống cao hơn rất nhiều so với class châm biếm do số lượng các headlines chính thống dùng để train model nhiều hơn headlines châm biếm."
      ]
    },
    {
      "cell_type": "code",
      "metadata": {
        "colab": {
          "base_uri": "https://localhost:8080/",
          "height": 338
        },
        "id": "6WDwVt8Y0GdD",
        "outputId": "d2bcf353-2f3a-4fe9-d3e7-e1e3457d44a9"
      },
      "source": [
        "from sklearn.metrics import confusion_matrix\n",
        "plt.figure(figsize=(6,8))\n",
        "plot_confusion_matrix(clf, X_test_cv, y_test,cmap=plt.cm.Blues)\n",
        "plt.show()\n",
        "confusion_matrix(y_test, y_pred, labels=[0,1])"
      ],
      "execution_count": 111,
      "outputs": [
        {
          "output_type": "display_data",
          "data": {
            "text/plain": [
              "<Figure size 432x576 with 0 Axes>"
            ]
          },
          "metadata": {}
        },
        {
          "output_type": "display_data",
          "data": {
            "image/png": "[encoded data removed]",
            "text/plain": [
              "<Figure size 432x288 with 2 Axes>"
            ]
          },
          "metadata": {}
        },
        {
          "output_type": "execute_result",
          "data": {
            "text/plain": [
              "array([[35397,  2452],\n",
              "       [11694,  7920]])"
            ]
          },
          "metadata": {},
          "execution_count": 111
        }
      ]
    },
    {
      "cell_type": "markdown",
      "metadata": {
        "id": "neQWPQ1YNgyS"
      },
      "source": [
        "Từ trái sang phải, từ trên xuống dưới:\n",
        "* TN (True Negative) - Số lượng headlines chính thống dự đoán chính xác \n",
        "= 35379\n",
        "* FP (False Positive) - Số lượng headlines chính thống nhưng bị dự đoán thành châm biếm = 2452\n",
        "* FN (False Negative) - Số lượng headlines châm biếm nhưng dự đoán thành chính thống = 11694\n",
        "* TP (True Positive) - Số lượng headlines của bài báo châm biếm dự đoán chính xác = 7920\n",
        "\n",
        "---\n",
        "\n",
        "=> Như vậy ta có thể thấy class châm biếm bị dự đoán sai nhiều hơn do training data có số lượng nghiêng về class chính thống nhiều hơn dẫn đến model nghiêng về dự đoán class này nhiều hơn class châm biếm."
      ]
    },
    {
      "cell_type": "code",
      "metadata": {
        "id": "JUWoLgKjyped"
      },
      "source": [
        "# https://scikit-learn.org/stable/tutorial/text_analytics/working_with_text_data.html\n",
        "# https://stackoverflow.com/questions/30287371/countvectorizer-matrix-varies-with-new-test-data-for-classification"
      ],
      "execution_count": null,
      "outputs": []
    },
    {
      "cell_type": "markdown",
      "metadata": {
        "id": "yjWT3gOf1pl1"
      },
      "source": [
        "#TF-IDF Vectorizer"
      ]
    },
    {
      "cell_type": "code",
      "metadata": {
        "id": "OwdQQK1EvLQ6"
      },
      "source": [
        "from sklearn.feature_extraction.text import TfidfTransformer"
      ],
      "execution_count": 112,
      "outputs": []
    },
    {
      "cell_type": "code",
      "metadata": {
        "id": "0e-DX5gazvqb",
        "colab": {
          "base_uri": "https://localhost:8080/"
        },
        "outputId": "dcfcf928-9611-4a3b-b697-21318ed77b94"
      },
      "source": [
        "tfidf=TfidfTransformer()\n",
        "X_train_tfidf=tfidf.fit_transform(X_train_cv)\n",
        "X_test_tfidf=tfidf.transform(X_test_cv)\n",
        "print(X_train_tfidf.shape,X_test_tfidf.shape)"
      ],
      "execution_count": 113,
      "outputs": [
        {
          "output_type": "stream",
          "text": [
            "(119688, 48319) (57463, 48319)\n"
          ],
          "name": "stdout"
        }
      ]
    },
    {
      "cell_type": "code",
      "metadata": {
        "id": "yFJaOEHj0VTG"
      },
      "source": [
        "clf=SGDClassifier()\n",
        "clf.fit(X_train_tfidf,y_train)\n",
        "y_pred=clf.predict(X_test_tfidf)"
      ],
      "execution_count": 114,
      "outputs": []
    },
    {
      "cell_type": "code",
      "metadata": {
        "colab": {
          "base_uri": "https://localhost:8080/"
        },
        "id": "aOCvuP3_xoRh",
        "outputId": "6f067d5a-b141-4a86-b74f-92e6da6845b3"
      },
      "source": [
        "print(accuracy_score(y_test, y_pred))"
      ],
      "execution_count": 115,
      "outputs": [
        {
          "output_type": "stream",
          "text": [
            "0.692358561161095\n"
          ],
          "name": "stdout"
        }
      ]
    },
    {
      "cell_type": "code",
      "metadata": {
        "id": "k0kqUEhC2wuC",
        "colab": {
          "base_uri": "https://localhost:8080/"
        },
        "outputId": "c7c7fb30-4c54-4c48-d79c-67cd25c5e704"
      },
      "source": [
        "print(classification_report(y_test, y_pred))"
      ],
      "execution_count": 116,
      "outputs": [
        {
          "output_type": "stream",
          "text": [
            "              precision    recall  f1-score   support\n",
            "\n",
            "           0       0.69      0.98      0.81     37849\n",
            "           1       0.80      0.13      0.23     19614\n",
            "\n",
            "    accuracy                           0.69     57463\n",
            "   macro avg       0.74      0.56      0.52     57463\n",
            "weighted avg       0.72      0.69      0.61     57463\n",
            "\n"
          ],
          "name": "stdout"
        }
      ]
    },
    {
      "cell_type": "markdown",
      "metadata": {
        "id": "w2O5cSbJM_51"
      },
      "source": [
        "Với TF-IDF vectorizer, sự chênh lệch về presion và recall còn rõ ràng hơn, dẫn đến f1-score giảm xuống còn 0.69"
      ]
    },
    {
      "cell_type": "code",
      "metadata": {
        "id": "uov-2ehi9NgR",
        "colab": {
          "base_uri": "https://localhost:8080/",
          "height": 337
        },
        "outputId": "08d9d6f3-852f-4c67-af83-b958cf57a01e"
      },
      "source": [
        "plt.figure(figsize=(6,8))\n",
        "plot_confusion_matrix(clf, X_test_tfidf, y_test,cmap=plt.cm.Blues)\n",
        "plt.show()\n",
        "confusion_matrix(y_test, y_pred, labels=[0,1])"
      ],
      "execution_count": 135,
      "outputs": [
        {
          "output_type": "display_data",
          "data": {
            "text/plain": [
              "<Figure size 432x576 with 0 Axes>"
            ]
          },
          "metadata": {}
        },
        {
          "output_type": "display_data",
          "data": {
            "image/png": "[encoded data removed]",
            "text/plain": [
              "<Figure size 432x288 with 2 Axes>"
            ]
          },
          "metadata": {}
        },
        {
          "output_type": "execute_result",
          "data": {
            "text/plain": [
              "array([[37180,   669],\n",
              "       [17009,  2605]])"
            ]
          },
          "metadata": {},
          "execution_count": 135
        }
      ]
    },
    {
      "cell_type": "markdown",
      "metadata": {
        "id": "FJ9hDRImO_Nu"
      },
      "source": [
        "Từ trái sang phải, từ trên xuống dưới:\n",
        "* TN (True Negative) - Số lượng headlines chính thống dự đoán chính xác \n",
        "= 37180\n",
        "* FP (False Positive) - Số lượng headlines chính thống nhưng bị dự đoán thành châm biếm = 669\n",
        "* FN (False Negative) - Số lượng headlines châm biếm nhưng dự đoán thành chính thống = 17009\n",
        "* TP (True Positive) - Số lượng headlines của bài báo châm biếm dự đoán chính xác = 2605\n",
        "\n",
        "---\n",
        "\n",
        "Model phân loại đúng các headlines châm biến nhiều hơn Count vectorizer nhưng lại phân loại sai nhiều hơn các headlines châm biếm. Dù TF-IDF vectorizer thường được đánh giá là tốt hơn Count vectorizer nhưng với chênh lệch số lượng headlines chính thống gấp 5 lần châm biếm ở training data như trên chỉ khiến cho TF-IDF vectorizer cho kết quả dự đoán tốt hơn chênh class chính thống và còn có phần tệ hơn trên class châm biếm."
      ]
    },
    {
      "cell_type": "markdown",
      "metadata": {
        "id": "Kp0Kp4ugAoqd"
      },
      "source": [
        "#Word2Vec"
      ]
    },
    {
      "cell_type": "code",
      "metadata": {
        "id": "Kx1CK3d1CdNC"
      },
      "source": [
        "import gensim\n",
        "# Số chiều của các vectors biểu diễn bộ từ vựng\n",
        "EMBEDDING_DIM = 50"
      ],
      "execution_count": 118,
      "outputs": []
    },
    {
      "cell_type": "code",
      "metadata": {
        "id": "94L5yybjAtZK"
      },
      "source": [
        "data_train, data_test = [], []\n",
        "for i in X_train.values:\n",
        "    data_train.append(i.split())\n",
        "for i in X_test.values:\n",
        "    data_test.append(i.split())"
      ],
      "execution_count": 119,
      "outputs": []
    },
    {
      "cell_type": "code",
      "metadata": {
        "colab": {
          "base_uri": "https://localhost:8080/"
        },
        "id": "TglrUa6qClTc",
        "outputId": "c1a67c5a-d842-4228-a68d-c1f431c320e9"
      },
      "source": [
        "# Tạo các Word Vectors bằng phương pháp Word2Vec\n",
        "w2v_model = gensim.models.Word2Vec(sentences = data_train , size=EMBEDDING_DIM , window = 5 , min_count = 1)\n",
        "# Kích thước vocabulary của training data\n",
        "len(w2v_model.wv.vocab)"
      ],
      "execution_count": 120,
      "outputs": [
        {
          "output_type": "execute_result",
          "data": {
            "text/plain": [
              "48665"
            ]
          },
          "metadata": {},
          "execution_count": 120
        }
      ]
    },
    {
      "cell_type": "markdown",
      "metadata": {
        "id": "fFSvBNj5heCK"
      },
      "source": [
        "Ta biểu diễn mỗi từ trong 48665 từ của training_data dưới dạng các vector kích thước 50 (tức mỗi vector có 50 chiều)"
      ]
    },
    {
      "cell_type": "code",
      "metadata": {
        "id": "FEzz3XqOFc8d"
      },
      "source": [
        "tokenizer = text.Tokenizer(num_words=48665)\n",
        "tokenizer.fit_on_texts(data_train)\n",
        "tokenized_train = tokenizer.texts_to_sequences(data_train)\n",
        "x_train = sequence.pad_sequences(tokenized_train, maxlen = 60)\n",
        "tokenized_test = tokenizer.texts_to_sequences(data_test)\n",
        "x_test = sequence.pad_sequences(tokenized_test, maxlen = 60)"
      ],
      "execution_count": 126,
      "outputs": []
    },
    {
      "cell_type": "code",
      "metadata": {
        "id": "Hq_Fubz0HlWj"
      },
      "source": [
        "# Embedding Layer tạo thêm một vector cho các từ chưa biết hoặc các từ đệm, vector này chứa đầy các số 0.\n",
        "# Như vậy kích thước vocab tăng lên 1\n",
        "vocab_size = len(tokenizer.word_index) + 1"
      ],
      "execution_count": 127,
      "outputs": []
    },
    {
      "cell_type": "code",
      "metadata": {
        "id": "uMdFTPjpHoKK"
      },
      "source": [
        "# Tạo weight matrix từ word2vec gensim model\n",
        "def get_weight_matrix(model, vocab):\n",
        "    # kích thước từ vự tăng thêm 1 do có thêm từ chưa biết\n",
        "    vocab_size = len(vocab) + 1\n",
        "    # khởi tạo weight matrix toàn số 0\n",
        "    weight_matrix = np.zeros((vocab_size, EMBEDDING_DIM))\n",
        "    for word, i in vocab.items():\n",
        "        weight_matrix[i] = model[word]\n",
        "    return weight_matrix"
      ],
      "execution_count": 128,
      "outputs": []
    },
    {
      "cell_type": "code",
      "metadata": {
        "colab": {
          "base_uri": "https://localhost:8080/"
        },
        "id": "DAiRdTQuHqS2",
        "outputId": "e4b5dd58-065d-43c2-f405-2d87701e523d"
      },
      "source": [
        "# Lấy embedding vectors từ word2vec và dùng weight của chúng cho non-trainable keras embedding layer\n",
        "embedding_vectors = get_weight_matrix(w2v_model, tokenizer.word_index)"
      ],
      "execution_count": 129,
      "outputs": [
        {
          "output_type": "stream",
          "text": [
            "/usr/local/lib/python3.7/dist-packages/ipykernel_launcher.py:9: DeprecationWarning: Call to deprecated `__getitem__` (Method will be removed in 4.0.0, use self.wv.__getitem__() instead).\n",
            "  if __name__ == '__main__':\n"
          ],
          "name": "stderr"
        }
      ]
    },
    {
      "cell_type": "code",
      "metadata": {
        "id": "C-vdViu3IxB2"
      },
      "source": [
        "# thêm vào model các layers chưa đào tạo\n",
        "model = Sequential()\n",
        "model.add(Embedding(vocab_size, output_dim=EMBEDDING_DIM, weights=[embedding_vectors], input_length=60, trainable=True))\n",
        "# xây dựng mô hình LSTM cho model để train\n",
        "model.add(LSTM(units=128))\n",
        "model.add(Dropout(0.4))\n",
        "model.add(Dense(1, activation='sigmoid'))\n",
        "model.compile(optimizer='adam', loss='binary_crossentropy', metrics=['acc'])"
      ],
      "execution_count": 130,
      "outputs": []
    },
    {
      "cell_type": "code",
      "metadata": {
        "colab": {
          "base_uri": "https://localhost:8080/"
        },
        "id": "c-UxJcGnXheu",
        "outputId": "4606562b-7e1d-4855-e4dd-63212eb1fcbb"
      },
      "source": [
        "model.summary()"
      ],
      "execution_count": 131,
      "outputs": [
        {
          "output_type": "stream",
          "text": [
            "Model: \"sequential_13\"\n",
            "_________________________________________________________________\n",
            "Layer (type)                 Output Shape              Param #   \n",
            "=================================================================\n",
            "embedding_13 (Embedding)     (None, 60, 50)            2433300   \n",
            "_________________________________________________________________\n",
            "lstm_15 (LSTM)               (None, 128)               91648     \n",
            "_________________________________________________________________\n",
            "dropout_10 (Dropout)         (None, 128)               0         \n",
            "_________________________________________________________________\n",
            "dense_10 (Dense)             (None, 1)                 129       \n",
            "=================================================================\n",
            "Total params: 2,525,077\n",
            "Trainable params: 2,525,077\n",
            "Non-trainable params: 0\n",
            "_________________________________________________________________\n"
          ],
          "name": "stdout"
        }
      ]
    },
    {
      "cell_type": "code",
      "metadata": {
        "colab": {
          "base_uri": "https://localhost:8080/"
        },
        "id": "jaCiPgYBbjcE",
        "outputId": "682cbca4-539c-4a6a-94a0-e98c06451589"
      },
      "source": [
        "history = model.fit(x_train, y_train, batch_size = 128 , validation_data = (x_test, y_test) , epochs = 3)"
      ],
      "execution_count": 132,
      "outputs": [
        {
          "output_type": "stream",
          "text": [
            "Epoch 1/3\n",
            "936/936 [==============================] - 235s 249ms/step - loss: 0.2157 - acc: 0.9105 - val_loss: 0.5140 - val_acc: 0.7815\n",
            "Epoch 2/3\n",
            "936/936 [==============================] - 233s 249ms/step - loss: 0.1018 - acc: 0.9612 - val_loss: 0.6357 - val_acc: 0.7565\n",
            "Epoch 3/3\n",
            "936/936 [==============================] - 234s 250ms/step - loss: 0.0615 - acc: 0.9769 - val_loss: 0.7449 - val_acc: 0.7322\n"
          ],
          "name": "stdout"
        }
      ]
    },
    {
      "cell_type": "code",
      "metadata": {
        "id": "Vh9_lSRUXtKd",
        "colab": {
          "base_uri": "https://localhost:8080/"
        },
        "outputId": "93a82b45-03fd-4173-8504-efd8d759b6a2"
      },
      "source": [
        "print(\"Accuracy of the model on Training Data is - \" , model.evaluate(x_train,y_train)[1]*100)\n",
        "print(\"Accuracy of the model on Testing Data is - \" , model.evaluate(x_test,y_test)[1]*100)"
      ],
      "execution_count": 133,
      "outputs": [
        {
          "output_type": "stream",
          "text": [
            "3741/3741 [==============================] - 79s 21ms/step - loss: 0.0365 - acc: 0.9886\n",
            "Accuracy of the model on Training Data is -  98.85535836219788\n",
            "1796/1796 [==============================] - 38s 21ms/step - loss: 0.7449 - acc: 0.7322\n",
            "Accuracy of the model on Testing Data is -  73.2192873954773\n"
          ],
          "name": "stdout"
        }
      ]
    },
    {
      "cell_type": "markdown",
      "metadata": {
        "id": "CtDepwlbImsO"
      },
      "source": [
        "Word2Vec có kết quả rất tốt trên training data nhưng khá tệ trên testing data do overfit và chênh lệch số lượng data giữa 2 class. Để cải thiện accuracy của model, cần thu thập thêm nhiều data hơn nữa, đặc biệt là headlines class châm biếm để các headlines chính thống và châm biếm có số lượng tương đương nhau. Như vậy thì model mới có thể học và cho kết quả tốt hơn trên các headlines châm biếm."
      ]
    },
    {
      "cell_type": "code",
      "metadata": {
        "id": "yIv7E_CIWoXY"
      },
      "source": [
        "# https://www.kaggle.com/wajeehafarids/sarcasm-detection-with-glove-and-word2vec?fbclid=IwAR2P0Lw5b9qwJoUvUlEFIsHcgB9r2IYwrYOHwolJux6oedfpdudm9WdJyTM"
      ],
      "execution_count": null,
      "outputs": []
    }
  ]
}