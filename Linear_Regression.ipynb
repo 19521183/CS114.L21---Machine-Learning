{
  "nbformat": 4,
  "nbformat_minor": 0,
  "metadata": {
    "colab": {
      "name": "Linear Regression.ipynb",
      "provenance": [],
      "include_colab_link": true
    },
    "kernelspec": {
      "name": "python3",
      "display_name": "Python 3"
    },
    "language_info": {
      "name": "python"
    }
  },
  "cells": [
    {
      "cell_type": "markdown",
      "metadata": {
        "id": "view-in-github",
        "colab_type": "text"
      },
      "source": [
        "<a href=\"https://colab.research.google.com/github/UIT-19521183/CS114.L21/blob/main/Linear_Regression.ipynb\" target=\"_parent\"><img src=\"https://colab.research.google.com/assets/colab-badge.svg\" alt=\"Open In Colab\"/></a>"
      ]
    },
    {
      "cell_type": "code",
      "metadata": {
        "id": "8KmpLrnU5uhM"
      },
      "source": [
        "from sklearn import linear_model\n",
        "import pandas as pd\n",
        "from sklearn.model_selection import train_test_split\n",
        "import numpy as np\n",
        "from sklearn import metrics"
      ],
      "execution_count": null,
      "outputs": []
    },
    {
      "cell_type": "code",
      "metadata": {
        "id": "JeITBKA56PHN",
        "colab": {
          "base_uri": "https://localhost:8080/"
        },
        "outputId": "4df2d3f9-89a2-4f8a-a250-7aafd26bfd32"
      },
      "source": [
        "datasets = pd.read_csv(\"/content/data2.csv\")\n",
        "datasets.shape\n",
        "datasets_test1 = pd.read_csv(\"/content/data3.csv\")\n",
        "datasets_test1.shape\n",
        "datasets_test2 = pd.read_csv(\"/content/data4.csv\")\n",
        "datasets_test2.shape"
      ],
      "execution_count": null,
      "outputs": [
        {
          "output_type": "execute_result",
          "data": {
            "text/plain": [
              "(6023, 2)"
            ]
          },
          "metadata": {
            "tags": []
          },
          "execution_count": 37
        }
      ]
    },
    {
      "cell_type": "code",
      "metadata": {
        "id": "SMDxXyTR7Ku3"
      },
      "source": [
        "X_train = datasets[\"data\"]\n",
        "y_train = datasets[\"time\"]\n",
        "X_train = np.array(X_train).reshape(-1, 1)"
      ],
      "execution_count": null,
      "outputs": []
    },
    {
      "cell_type": "code",
      "metadata": {
        "id": "wLPsmEylBooQ"
      },
      "source": [
        "X_test1 = datasets_test1[\"data\"]\n",
        "y_test1 = datasets_test1[\"time\"]\n",
        "X_test1 = np.array(X_test1).reshape(-1, 1)"
      ],
      "execution_count": null,
      "outputs": []
    },
    {
      "cell_type": "code",
      "metadata": {
        "id": "SNz5IfkMCd_t"
      },
      "source": [
        "X_test2 = datasets_test2[\"data\"]\n",
        "y_test2 = datasets_test2[\"time\"]\n",
        "X_test2 = np.array(X_test2).reshape(-1, 1)"
      ],
      "execution_count": null,
      "outputs": []
    },
    {
      "cell_type": "code",
      "metadata": {
        "colab": {
          "base_uri": "https://localhost:8080/"
        },
        "id": "mG0VXiQU70Yr",
        "outputId": "2085a12e-a268-4e03-9e7b-b5421450997b"
      },
      "source": [
        "model = linear_model.LinearRegression()\n",
        "model.fit(X_train, y_train)"
      ],
      "execution_count": null,
      "outputs": [
        {
          "output_type": "execute_result",
          "data": {
            "text/plain": [
              "LinearRegression(copy_X=True, fit_intercept=True, n_jobs=None, normalize=False)"
            ]
          },
          "metadata": {
            "tags": []
          },
          "execution_count": 40
        }
      ]
    },
    {
      "cell_type": "code",
      "metadata": {
        "id": "PklKjxtP9ofC"
      },
      "source": [
        "def print_evaluate(y_true, predicted):  \n",
        "    mae = metrics.mean_absolute_error(y_true, predicted)\n",
        "    mse = metrics.mean_squared_error(y_true, predicted)\n",
        "    rmse = np.sqrt(metrics.mean_squared_error(y_true, predicted))\n",
        "    r2_square = metrics.r2_score(y_true, predicted)\n",
        "    print('MAE:', mae)\n",
        "    print('MSE:', mse)\n",
        "    print('RMSE:', rmse)\n",
        "    print('R2 Square', r2_square)\n",
        "    \n",
        "def evaluate(y_true, predicted):  \n",
        "    mae = metrics.mean_absolute_error(y_true, predicted)\n",
        "    mse = metrics.mean_squared_error(y_true, predicted)\n",
        "    rmse = np.sqrt(metrics.mean_squared_error(y_true, predicted))\n",
        "    r2_square = metrics.r2_score(y_true, predicted)\n",
        "    return mae, mse, rmse, r2_square"
      ],
      "execution_count": null,
      "outputs": []
    },
    {
      "cell_type": "code",
      "metadata": {
        "colab": {
          "base_uri": "https://localhost:8080/"
        },
        "id": "HcobmZRZ-8Kk",
        "outputId": "1f242fd9-6da0-400a-8229-2f3372a20a06"
      },
      "source": [
        "test_pred1 = model.predict(X_test1)\n",
        "test_pred2 = model.predict(X_test2)\n",
        "train_pred = model.predict(X_train)\n",
        "\n",
        "print('Test set evaluation data 3:\\n_____________________________________')\n",
        "print_evaluate(y_test1, test_pred1)\n",
        "print('====================================')\n",
        "print('Test set evaluation data 4:\\n_____________________________________')\n",
        "print_evaluate(y_test2, test_pred2)\n",
        "print('====================================')\n",
        "print('Train set evaluation:\\n_____________________________________')\n",
        "print_evaluate(y_train, train_pred)"
      ],
      "execution_count": null,
      "outputs": [
        {
          "output_type": "stream",
          "text": [
            "Test set evaluation data 3:\n",
            "_____________________________________\n",
            "MAE: 0.12271198006007256\n",
            "MSE: 0.020664949395059667\n",
            "RMSE: 0.14375308481928195\n",
            "R2 Square 0.928413220843569\n",
            "====================================\n",
            "Test set evaluation data 4:\n",
            "_____________________________________\n",
            "MAE: 0.45201138671168994\n",
            "MSE: 0.22348476815477422\n",
            "RMSE: 0.4727417563054635\n",
            "R2 Square 0.31568396059625314\n",
            "====================================\n",
            "Train set evaluation:\n",
            "_____________________________________\n",
            "MAE: 0.008291970317173873\n",
            "MSE: 0.00014337728719658726\n",
            "RMSE: 0.011974025521794551\n",
            "R2 Square 0.9975924993349585\n"
          ],
          "name": "stdout"
        }
      ]
    }
  ]
}